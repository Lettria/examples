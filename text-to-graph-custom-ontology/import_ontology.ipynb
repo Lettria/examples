{
 "cells": [
  {
   "cell_type": "markdown",
   "metadata": {},
   "source": [
    "#### Send ontology file for importation"
   ]
  },
  {
   "cell_type": "code",
   "execution_count": 1,
   "metadata": {},
   "outputs": [
    {
     "name": "stdout",
     "output_type": "stream",
     "text": [
      "{'message': 'ok', 'knowledgeId': '6573461c911ed5002428cd10'}\n"
     ]
    }
   ],
   "source": [
    "import requests\n",
    "\n",
    "app_api_host = 'https://api.app.lettria.com'\n",
    "file_name = 'ontology.owl'\n",
    "file_location = './data/'\n",
    "api_route = app_api_host + '/app/knowledge/import'\n",
    "jwt_token_file = 'jwt_token.txt'\n",
    "jwt_token = open(jwt_token_file, 'r').read()\n",
    "knowlede_id = None\n",
    "\n",
    "with open(file_location + file_name, 'rb') as file:\n",
    "    response = requests.post(\n",
    "        api_route,\n",
    "        files=[('file', ( file_name, file, \"application/rdf+xml\"))],\n",
    "        headers={\"Authorization\":\"LettriaProKey \" + jwt_token}\n",
    "    )\n",
    "    print(response.json())\n",
    "    knowlede_id = response.json()['knowledgeId']"
   ]
  },
  {
   "cell_type": "markdown",
   "metadata": {},
   "source": [
    "#### Polling to wait for the end of the import"
   ]
  },
  {
   "cell_type": "code",
   "execution_count": 2,
   "metadata": {},
   "outputs": [
    {
     "name": "stdout",
     "output_type": "stream",
     "text": [
      "SUCCESS         \r"
     ]
    }
   ],
   "source": [
    "import time\n",
    "import requests\n",
    "\n",
    "api_route = app_api_host + '/app/knowledge/read'\n",
    "importation_is_finished = False\n",
    "\n",
    "knowledge = None\n",
    "importation_status = None\n",
    "while not importation_is_finished:\n",
    "    response = requests.post(\n",
    "        api_route,\n",
    "        headers={\"Authorization\":\"LettriaProKey \" + jwt_token}\n",
    "    ).json()\n",
    "    imported_knowledge = next((item for item in response['documents'] if item[\"_id\"] == knowlede_id), None)\n",
    "    importation_status = imported_knowledge.get('importationStatus')\n",
    "    print(importation_status + \"      \", end='\\r')\n",
    "    importation_is_finished = importation_status != 'PROCESSING'\n",
    "    time.sleep(1)\n",
    "if importation_status != 'SUCCESS':\n",
    "    print('Importation failed')\n",
    "    exit(1)"
   ]
  }
 ],
 "metadata": {
  "kernelspec": {
   "display_name": "python3-9-generic-env",
   "language": "python",
   "name": "python3"
  },
  "language_info": {
   "codemirror_mode": {
    "name": "ipython",
    "version": 3
   },
   "file_extension": ".py",
   "mimetype": "text/x-python",
   "name": "python",
   "nbconvert_exporter": "python",
   "pygments_lexer": "ipython3",
   "version": "3.9.16"
  }
 },
 "nbformat": 4,
 "nbformat_minor": 2
}
