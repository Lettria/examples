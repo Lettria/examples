{
 "cells": [
  {
   "cell_type": "markdown",
   "metadata": {},
   "source": [
    "#### Send ontology file for importation"
   ]
  },
  {
   "cell_type": "code",
   "execution_count": 23,
   "metadata": {},
   "outputs": [
    {
     "name": "stdout",
     "output_type": "stream",
     "text": [
      "{'message': 'ok', 'knowledgeId': '6573407f49582e002a8bb7fb'}\n"
     ]
    }
   ],
   "source": [
    "import requests\n",
    "\n",
    "app_api_host = 'https://api.app.lettria.com'\n",
    "file_name = 'ontology.owl'\n",
    "file_location = './data/'\n",
    "api_route = app_api_host + '/app/knowledge/import'\n",
    "jwt_token_file = 'jwt_token.txt'\n",
    "jwt_token = open(jwt_token_file, 'r').read()\n",
    "knowlede_id = None\n",
    "\n",
    "with open(file_location + file_name, 'rb') as file:\n",
    "    response = requests.post(\n",
    "        api_route,\n",
    "        files=[('file', ( file_name, file, \"application/rdf+xml\"))],\n",
    "        headers={\"Authorization\":\"LettriaProKey \" + jwt_token}\n",
    "    )\n",
    "    print(response.json())\n",
    "    knowlede_id = response.json()['knowledgeId']"
   ]
  },
  {
   "cell_type": "markdown",
   "metadata": {},
   "source": [
    "#### Polling to wait for the end of the import"
   ]
  },
  {
   "cell_type": "code",
   "execution_count": 24,
   "metadata": {},
   "outputs": [
    {
     "name": "stdout",
     "output_type": "stream",
     "text": [
      "SUCCESS         \r"
     ]
    }
   ],
   "source": [
    "import time\n",
    "import requests\n",
    "\n",
    "api_route = app_api_host + '/app/knowledge/read'\n",
    "importation_is_finished = False\n",
    "\n",
    "knowledge = None\n",
    "importation_status = None\n",
    "while not importation_is_finished:\n",
    "    response = requests.post(\n",
    "        api_route,\n",
    "        headers={\"Authorization\":\"LettriaProKey \" + jwt_token}\n",
    "    ).json()\n",
    "    imported_knowledge = next((item for item in response['documents'] if item[\"_id\"] == knowlede_id), None)\n",
    "    importation_status = imported_knowledge.get('importationStatus')\n",
    "    print(importation_status + \"      \", end='\\r')\n",
    "    importation_is_finished = importation_status != 'PROCESSING'\n",
    "    time.sleep(1)\n",
    "if importation_status != 'SUCCESS':\n",
    "    print('Importation failed')\n",
    "    exit(1)"
   ]
  },
  {
   "cell_type": "markdown",
   "metadata": {},
   "source": [
    "#### Extract document text chunks"
   ]
  },
  {
   "cell_type": "code",
   "execution_count": 25,
   "metadata": {},
   "outputs": [
    {
     "name": "stdout",
     "output_type": "stream",
     "text": [
      "['Mon cheval de 30kg']\n"
     ]
    }
   ],
   "source": [
    "api_host = 'https://api.lettria.com'\n",
    "api_route = api_host + '/parse'\n",
    "document_file_name = 'file.txt'\n",
    "document_file_location = './data/'\n",
    "\n",
    "chunks = []\n",
    "with open(document_file_location + document_file_name, 'rb') as file:\n",
    "    response = requests.post(\n",
    "        api_route,\n",
    "        files=[('file', ( document_file_name, file, \"application/text\"))],\n",
    "        headers={\"Authorization\":\"LettriaProKey \" + jwt_token}\n",
    "    ).json()\n",
    "    text_chunks = response['chunks']\n",
    "\n",
    "text_chunks = [chunk['content'] for chunk in text_chunks if chunk['type'] == 'text']\n",
    "print(text_chunks)"
   ]
  },
  {
   "cell_type": "markdown",
   "metadata": {},
   "source": [
    "#### Text to graph using Lettria structuration endpoint"
   ]
  },
  {
   "cell_type": "code",
   "execution_count": 26,
   "metadata": {},
   "outputs": [
    {
     "name": "stdout",
     "output_type": "stream",
     "text": [
      "@prefix card: <https://data.lettria.com/card/> .\n",
      "@prefix d: <https://doc.lettria.com/ontology/1.0/Data/> .\n",
      "@prefix info: <https://data.lettria.com/info/> .\n",
      "@prefix l: <https://doc.lettria.com/ontology/1.0/> .\n",
      "@prefix m: <https://doc.lettria.com/ontology/1.0/Metadata/> .\n",
      "@prefix owl: <http://www.w3.org/2002/07/owl#> .\n",
      "@prefix rdf: <http://www.w3.org/1999/02/22-rdf-syntax-ns#> .\n",
      "@prefix rdfs: <http://www.w3.org/2000/01/rdf-schema#> .\n",
      "@prefix xsd: <http://www.w3.org/2001/XMLSchema#> .\n",
      "\n",
      "<https://data.lettria.com/project/63f642b44aaf52003163cecc> a l:Project ;\n",
      "    rdfs:label \"63f642b44aaf52003163cecc\" ;\n",
      "    l:Document <https://data.lettria.com/document/63f642b44aaf52003163cecc_document_0> ;\n",
      "    m:platformUrl \"https://app.lettria.com/nlp/project/view/63f642b44aaf52003163cecc/overview\" ;\n",
      "    m:projectId \"63f642b44aaf52003163cecc\" .\n",
      "\n",
      "card:b7e82813-e509-4c02-82ce-bfcbeccb671e a owl:Class,\n",
      "        l:Card ;\n",
      "    d:categopath \"concrete_thing|natural_thing|person\" ;\n",
      "    d:categosens \"concrete_thing\",\n",
      "        \"natural_thing\",\n",
      "        \"person\" ;\n",
      "    d:finestCategosens \"person\" ;\n",
      "    d:lemma \"SPEAKER\" ;\n",
      "    m:creationDate \"Friday, December 08, 2023 04:12:56\" ;\n",
      "    m:negation false ;\n",
      "    m:origin \"Lettria\" ;\n",
      "    m:plural false ;\n",
      "    m:position \"0:0\" ;\n",
      "    m:projectId \"63f642b44aaf52003163cecc\" ;\n",
      "    m:purePosition \"0:3\" ;\n",
      "    m:uniqueId \"b7e82813-e509-4c02-82ce-bfcbeccb671e|1702051976.2483587\" ;\n",
      "    l:Possessing info:c38a9466-3234-4428-9306-8eb6b0a4e5c1 .\n",
      "\n",
      "<https://data.lettria.com/document/63f642b44aaf52003163cecc_document_0> a l:Document ;\n",
      "    rdfs:label \"63f642b44aaf52003163cecc_document_0\" ;\n",
      "    rdf:language \"fr\" ;\n",
      "    l:Card card:88739620-becd-4c81-a5fe-1faa0be4db48,\n",
      "        card:b7e82813-e509-4c02-82ce-bfcbeccb671e ;\n",
      "    m:projectId \"63f642b44aaf52003163cecc\" .\n",
      "\n",
      "info:18b5d33a-8b7b-4070-b8a0-cf71f1afe344 a owl:DatatypeProperty,\n",
      "        l:Attribute ;\n",
      "    rdfs:label \"weight\" ;\n",
      "    d:value \"{'entity': 'mass', 'unit': 'kg', 'scalar': 30, 'gramme': 30000, 'kilogramme': 30, 'centigramme': 3000000, 'tonnes': 0.03, 'pounds': 66.14, 'stone': 4.72, 'ton': 0.00295, 'onces': 1058.22, 'confidence': 0.99, 'type': 'mass', 'path': 'ENTITY:mass', 'source': '30kg', 'entity_base': 'mass'}\" ;\n",
      "    d:valueSource \"30kg\" ;\n",
      "    d:valueType \"entity\" ;\n",
      "    m:creationDate \"Friday, December 08, 2023 04:12:56\" ;\n",
      "    m:intensity 1e+00 ;\n",
      "    m:negation false ;\n",
      "    m:origin \"understanding\" ;\n",
      "    m:position \"0:1|0:3\" ;\n",
      "    m:projectId \"63f642b44aaf52003163cecc\" ;\n",
      "    m:purePosition \"4:10|14:18\" ;\n",
      "    m:temporality \"present\" ;\n",
      "    m:uniqueId \"18b5d33a-8b7b-4070-b8a0-cf71f1afe344|1702051976.2496567\" .\n",
      "\n",
      "info:c38a9466-3234-4428-9306-8eb6b0a4e5c1 a owl:ObjectProperty,\n",
      "        l:Possessing ;\n",
      "    rdfs:label \"ownership\" ;\n",
      "    d:value card:88739620-becd-4c81-a5fe-1faa0be4db48 ;\n",
      "    d:valueType \"card\" ;\n",
      "    m:creationDate \"Friday, December 08, 2023 04:12:56\" ;\n",
      "    m:intensity 1e+00 ;\n",
      "    m:negation false ;\n",
      "    m:origin \"text\" ;\n",
      "    m:position \"0:0|0:1\" ;\n",
      "    m:projectId \"63f642b44aaf52003163cecc\" ;\n",
      "    m:purePosition \"0:3|4:10\" ;\n",
      "    m:temporality \"present\" ;\n",
      "    m:uniqueId \"c38a9466-3234-4428-9306-8eb6b0a4e5c1|1702051976.2497447\" .\n",
      "\n",
      "card:88739620-becd-4c81-a5fe-1faa0be4db48 a owl:Class,\n",
      "        l:Card ;\n",
      "    l:Attribute info:18b5d33a-8b7b-4070-b8a0-cf71f1afe344 ;\n",
      "    d:categopath \"concrete_thing|natural_thing|other_living_being|eukaryote|animal|chordate|vertebrate|tetrapod|mammal|equidae|horse\" ;\n",
      "    d:categosens \"animal\",\n",
      "        \"chordate\",\n",
      "        \"concrete_thing\",\n",
      "        \"equidae\",\n",
      "        \"eukaryote\",\n",
      "        \"horse\",\n",
      "        \"mammal\",\n",
      "        \"natural_thing\",\n",
      "        \"other_living_being\",\n",
      "        \"tetrapod\",\n",
      "        \"vertebrate\" ;\n",
      "    d:finestCategosens \"horse\" ;\n",
      "    d:lemma \"cheval\" ;\n",
      "    m:creationDate \"Friday, December 08, 2023 04:12:56\" ;\n",
      "    m:negation false ;\n",
      "    m:origin \"Lettria\" ;\n",
      "    m:plural false ;\n",
      "    m:position \"0:1\" ;\n",
      "    m:projectId \"63f642b44aaf52003163cecc\" ;\n",
      "    m:purePosition \"4:10\" ;\n",
      "    m:uniqueId \"88739620-becd-4c81-a5fe-1faa0be4db48|1702051976.2483063\" .\n",
      "\n",
      "\n"
     ]
    }
   ],
   "source": [
    "api_route = api_host + '/structuration'\n",
    "\n",
    "response = requests.post(\n",
    "    api_route,\n",
    "    json={\n",
    "        \"documents\": text_chunks,\n",
    "        \"options\":{\n",
    "            \"rdf_export\": True\n",
    "        }\n",
    "    },\n",
    "    headers={\"Authorization\":\"LettriaProKey \" + jwt_token}\n",
    ").json()\n",
    "\n",
    "rdf_string = response['rdf']\n",
    "print(rdf_string)"
   ]
  }
 ],
 "metadata": {
  "kernelspec": {
   "display_name": "python3-9-generic-env",
   "language": "python",
   "name": "python3"
  },
  "language_info": {
   "codemirror_mode": {
    "name": "ipython",
    "version": 3
   },
   "file_extension": ".py",
   "mimetype": "text/x-python",
   "name": "python",
   "nbconvert_exporter": "python",
   "pygments_lexer": "ipython3",
   "version": "3.9.18"
  }
 },
 "nbformat": 4,
 "nbformat_minor": 2
}
